{
 "cells": [
  {
   "cell_type": "markdown",
   "id": "60ae3900",
   "metadata": {},
   "source": [
    "# Datatypes"
   ]
  },
  {
   "cell_type": "markdown",
   "id": "faf243ef",
   "metadata": {},
   "source": [
    "1. Python program to sum all the items in a list."
   ]
  },
  {
   "cell_type": "code",
   "execution_count": 1,
   "id": "addadbbb",
   "metadata": {},
   "outputs": [
    {
     "name": "stdout",
     "output_type": "stream",
     "text": [
      "The sum of the items in the list is: 75\n"
     ]
    }
   ],
   "source": [
    "def sum_list_items(my_list):\n",
    "    total = 0\n",
    "    for item in my_list:\n",
    "        total += item\n",
    "    return total\n",
    "\n",
    "# Example list\n",
    "numbers = [5, 10, 15, 20, 25]\n",
    "\n",
    "# Call the function to calculate the sum\n",
    "result = sum_list_items(numbers)\n",
    "\n",
    "# Display the result\n",
    "print(f\"The sum of the items in the list is: {result}\")\n"
   ]
  },
  {
   "cell_type": "markdown",
   "id": "2f20a9d2",
   "metadata": {},
   "source": [
    "2. Python program to multiplies all the items in a list."
   ]
  },
  {
   "cell_type": "code",
   "execution_count": 3,
   "id": "9cf78c47",
   "metadata": {},
   "outputs": [
    {
     "name": "stdout",
     "output_type": "stream",
     "text": [
      "The product of the items in the list is: 375000\n"
     ]
    }
   ],
   "source": [
    "def multiply_list_items(my_list):\n",
    "    result = 1\n",
    "    for item in my_list:\n",
    "        result *= item\n",
    "    return result\n",
    "\n",
    "# Example list\n",
    "numbers = [5, 10, 15, 20, 25]\n",
    "\n",
    "# Call the function to calculate the product\n",
    "result = multiply_list_items(numbers)\n",
    "\n",
    "# Display the result\n",
    "print(f\"The product of the items in the list is: {result}\")"
   ]
  },
  {
   "cell_type": "markdown",
   "id": "6b978d9d",
   "metadata": {},
   "source": [
    "3. Python program to get the largest number from a list."
   ]
  },
  {
   "cell_type": "code",
   "execution_count": 4,
   "id": "680aca20",
   "metadata": {},
   "outputs": [
    {
     "name": "stdout",
     "output_type": "stream",
     "text": [
      "The largest number in the list is: 60\n"
     ]
    }
   ],
   "source": [
    "def find_largest_number(my_list):\n",
    "    if not my_list:\n",
    "        return None  # Return None for an empty list\n",
    "    else:\n",
    "        return max(my_list)\n",
    "\n",
    "# Example list\n",
    "numbers = [10, 55, 60, 15, 8]\n",
    "\n",
    "# Call the function to find the largest number\n",
    "largest_number = find_largest_number(numbers)\n",
    "\n",
    "# Display the result\n",
    "if largest_number is not None:\n",
    "    print(f\"The largest number in the list is: {largest_number}\")\n",
    "else:\n",
    "    print(\"The list is empty.\")"
   ]
  },
  {
   "cell_type": "markdown",
   "id": "e68d14be",
   "metadata": {},
   "source": [
    "4. Python program to get the smallest number from a list."
   ]
  },
  {
   "cell_type": "code",
   "execution_count": 5,
   "id": "a43a4235",
   "metadata": {},
   "outputs": [
    {
     "name": "stdout",
     "output_type": "stream",
     "text": [
      "The smallest number in the list is: 8\n"
     ]
    }
   ],
   "source": [
    "def find_smallest_number(my_list):\n",
    "    if not my_list:\n",
    "        return None  # Return None for an empty list\n",
    "    else:\n",
    "        return min(my_list)\n",
    "\n",
    "# Example list\n",
    "numbers = [10, 55, 20, 9, 8]\n",
    "\n",
    "# Call the function to find the smallest number\n",
    "smallest_number = find_smallest_number(numbers)\n",
    "\n",
    "# Display the result\n",
    "if smallest_number is not None:\n",
    "    print(f\"The smallest number in the list is: {smallest_number}\")\n",
    "else:\n",
    "    print(\"The list is empty.\")"
   ]
  },
  {
   "cell_type": "markdown",
   "id": "9f1b77b5",
   "metadata": {},
   "source": [
    "5. Python program to count the number of characters in a string."
   ]
  },
  {
   "cell_type": "code",
   "execution_count": 6,
   "id": "cdbebe27",
   "metadata": {},
   "outputs": [
    {
     "name": "stdout",
     "output_type": "stream",
     "text": [
      "Character counts in the string:\n",
      "g: 2\n",
      "o: 3\n",
      "l: 1\n",
      "e: 1\n",
      ".: 1\n",
      "c: 1\n",
      "m: 1\n"
     ]
    }
   ],
   "source": [
    "def count_characters(input_string):\n",
    "    char_count = {}\n",
    "    for char in input_string:\n",
    "        char_count[char] = char_count.get(char, 0) + 1\n",
    "    return char_count\n",
    "\n",
    "# Sample string\n",
    "sample_string = 'google.com'\n",
    "\n",
    "# Call the function to count characters\n",
    "character_counts = count_characters(sample_string)\n",
    "\n",
    "# Display the result\n",
    "print(\"Character counts in the string:\")\n",
    "for char, count in character_counts.items():\n",
    "    print(f\"{char}: {count}\")"
   ]
  },
  {
   "cell_type": "markdown",
   "id": "7de5d3b7",
   "metadata": {},
   "source": [
    "6. Python function that takes a list of words and returns the length of the longest one."
   ]
  },
  {
   "cell_type": "code",
   "execution_count": 7,
   "id": "9a81a46a",
   "metadata": {},
   "outputs": [
    {
     "name": "stdout",
     "output_type": "stream",
     "text": [
      "The length of the longest word is: 11\n"
     ]
    }
   ],
   "source": [
    "def find_longest_word(words_list):\n",
    "    if not words_list:\n",
    "        return 0  # Return 0 for an empty list\n",
    "\n",
    "    longest_word_length = len(words_list[0])\n",
    "    for word in words_list:\n",
    "        current_length = len(word)\n",
    "        if current_length > longest_word_length:\n",
    "            longest_word_length = current_length\n",
    "\n",
    "    return longest_word_length\n",
    "\n",
    "# Example list of words\n",
    "word_list = [\"river\", \"geography\", \"industry\", \"agriculture\", \"book\"]\n",
    "\n",
    "# Call the function to find the length of the longest word\n",
    "longest_word_length = find_longest_word(word_list)\n",
    "\n",
    "# Display the result\n",
    "print(f\"The length of the longest word is: {longest_word_length}\")\n"
   ]
  },
  {
   "cell_type": "markdown",
   "id": "8537bcbb",
   "metadata": {},
   "source": [
    "7. Python program to sort (ascending and descending) a dictionary by value."
   ]
  },
  {
   "cell_type": "code",
   "execution_count": 8,
   "id": "b685b8cb",
   "metadata": {},
   "outputs": [
    {
     "name": "stdout",
     "output_type": "stream",
     "text": [
      "Ascending Order:\n",
      "{'book': 1, 'geography': 2, 'agriculture': 3, 'river': 5, 'industry': 8}\n",
      "\n",
      "Descending Order:\n",
      "{'industry': 8, 'river': 5, 'agriculture': 3, 'geography': 2, 'book': 1}\n"
     ]
    }
   ],
   "source": [
    "def sort_dict_by_value(dictionary, ascending=True):\n",
    "    sorted_dict = dict(sorted(dictionary.items(), key=lambda item: item[1], reverse=not ascending))\n",
    "    return sorted_dict\n",
    "\n",
    "# Example dictionary\n",
    "my_dict = {'river': 5, 'geography': 2, 'industry': 8, 'agriculture': 3, 'book': 1}\n",
    "\n",
    "# Sort the dictionary in ascending order by value\n",
    "ascending_sorted_dict = sort_dict_by_value(my_dict, ascending=True)\n",
    "print(\"Ascending Order:\")\n",
    "print(ascending_sorted_dict)\n",
    "\n",
    "# Sort the dictionary in descending order by value\n",
    "descending_sorted_dict = sort_dict_by_value(my_dict, ascending=False)\n",
    "print(\"\\nDescending Order:\")\n",
    "print(descending_sorted_dict)"
   ]
  },
  {
   "cell_type": "markdown",
   "id": "1fe4cb2b",
   "metadata": {},
   "source": [
    "8. Python program to add key to a dictionary."
   ]
  },
  {
   "cell_type": "code",
   "execution_count": 9,
   "id": "ede7ed73",
   "metadata": {},
   "outputs": [
    {
     "name": "stdout",
     "output_type": "stream",
     "text": [
      "Updated Dictionary:\n",
      "{0: 10, 1: 20, 2: 30}\n"
     ]
    }
   ],
   "source": [
    "# Existing dictionary\n",
    "my_dict = {0: 10, 1: 20}\n",
    "\n",
    "# Key-value pair to add\n",
    "new_key = 2\n",
    "new_value = 30\n",
    "\n",
    "# Adding the new key-value pair to the dictionary\n",
    "my_dict[new_key] = new_value\n",
    "\n",
    "# Display the updated dictionary\n",
    "print(\"Updated Dictionary:\")\n",
    "print(my_dict)"
   ]
  },
  {
   "cell_type": "markdown",
   "id": "1d159cf8",
   "metadata": {},
   "source": [
    "9. Python program to get a list, sorted in increasing order by the last element in each tuple from a given list of non-empty tuples."
   ]
  },
  {
   "cell_type": "code",
   "execution_count": 10,
   "id": "9802fadd",
   "metadata": {},
   "outputs": [
    {
     "name": "stdout",
     "output_type": "stream",
     "text": [
      "Sorted List of Tuples:\n",
      "[(7, 1, 3), (2, 6, 4), (1, 3, 5), (4, 2, 8)]\n"
     ]
    }
   ],
   "source": [
    "def sort_tuples_by_last_element(tuple_list):\n",
    "    sorted_list = sorted(tuple_list, key=lambda x: x[-1])\n",
    "    return sorted_list\n",
    "\n",
    "# Example list of non-empty tuples\n",
    "tuple_list = [(1, 3, 5), (4, 2, 8), (7, 1, 3), (2, 6, 4)]\n",
    "\n",
    "# Sort the list of tuples by the last element in each tuple\n",
    "sorted_tuples = sort_tuples_by_last_element(tuple_list)\n",
    "\n",
    "# Display the result\n",
    "print(\"Sorted List of Tuples:\")\n",
    "print(sorted_tuples)"
   ]
  },
  {
   "cell_type": "markdown",
   "id": "06ef40a7",
   "metadata": {},
   "source": [
    "# Object oriented Concepts"
   ]
  },
  {
   "cell_type": "markdown",
   "id": "dadaa2df",
   "metadata": {},
   "source": [
    "1. Python program to create a class representing a Circle. Include methods to calculate its area and perimeter."
   ]
  },
  {
   "cell_type": "code",
   "execution_count": 11,
   "id": "44aa664a",
   "metadata": {},
   "outputs": [
    {
     "name": "stdout",
     "output_type": "stream",
     "text": [
      "Area of the circle with radius 10 is: 314.16\n",
      "Perimeter of the circle with radius 10 is: 62.83\n"
     ]
    }
   ],
   "source": [
    "import math\n",
    "\n",
    "class Circle:\n",
    "    def __init__(self, radius):\n",
    "        self.radius = radius\n",
    "\n",
    "    def calculate_area(self):\n",
    "        area = math.pi * (self.radius ** 2)\n",
    "        return area\n",
    "\n",
    "    def calculate_perimeter(self):\n",
    "        perimeter = 2 * math.pi * self.radius\n",
    "        return perimeter\n",
    "\n",
    "# Example usage of the Circle class\n",
    "radius_value = 10\n",
    "circle_instance = Circle(radius_value)\n",
    "\n",
    "# Calculate and display area\n",
    "area_result = circle_instance.calculate_area()\n",
    "print(f\"Area of the circle with radius {radius_value} is: {area_result:.2f}\")\n",
    "\n",
    "# Calculate and display perimeter\n",
    "perimeter_result = circle_instance.calculate_perimeter()\n",
    "print(f\"Perimeter of the circle with radius {radius_value} is: {perimeter_result:.2f}\")"
   ]
  },
  {
   "cell_type": "markdown",
   "id": "9c62e128",
   "metadata": {},
   "source": [
    "2. Python program to create a person class. Include attributes like name, country and date of birth. Implement a method to determine the person's age."
   ]
  },
  {
   "cell_type": "code",
   "execution_count": 12,
   "id": "1c05da56",
   "metadata": {},
   "outputs": [
    {
     "name": "stdout",
     "output_type": "stream",
     "text": [
      "Aditi Goswami from India is 25 years old.\n"
     ]
    }
   ],
   "source": [
    "from datetime import datetime\n",
    "\n",
    "class Person:\n",
    "    def __init__(self, name, country, date_of_birth):\n",
    "        self.name = name\n",
    "        self.country = country\n",
    "        self.date_of_birth = datetime.strptime(date_of_birth, \"%Y-%m-%d\")\n",
    "\n",
    "    def calculate_age(self):\n",
    "        current_date = datetime.now()\n",
    "        age = current_date.year - self.date_of_birth.year - ((current_date.month, current_date.day) < (self.date_of_birth.month, self.date_of_birth.day))\n",
    "        return age\n",
    "\n",
    "# Example usage of the Person class\n",
    "person_name = \"Aditi Goswami\"\n",
    "person_country = \"India\"\n",
    "person_date_of_birth = \"1998-06-09\"\n",
    "\n",
    "person_instance = Person(person_name, person_country, person_date_of_birth)\n",
    "\n",
    "# Calculate and display the person's age\n",
    "person_age = person_instance.calculate_age()\n",
    "print(f\"{person_instance.name} from {person_instance.country} is {person_age} years old.\")"
   ]
  },
  {
   "cell_type": "markdown",
   "id": "afee1198",
   "metadata": {},
   "source": [
    "3. Python program to create a calculator class. Include methods for basic arithmetic operations."
   ]
  },
  {
   "cell_type": "code",
   "execution_count": 13,
   "id": "dd619988",
   "metadata": {},
   "outputs": [
    {
     "name": "stdout",
     "output_type": "stream",
     "text": [
      "Addition: 28\n",
      "Subtraction: 14\n",
      "Multiplication: 720\n",
      "Division: 4.0\n"
     ]
    }
   ],
   "source": [
    "class Calculator:\n",
    "    def add(self, num1, num2):\n",
    "        return num1 + num2\n",
    "\n",
    "    def subtract(self, num1, num2):\n",
    "        return num1 - num2\n",
    "\n",
    "    def multiply(self, num1, num2):\n",
    "        return num1 * num2\n",
    "\n",
    "    def divide(self, num1, num2):\n",
    "        if num2 != 0:\n",
    "            return num1 / num2\n",
    "        else:\n",
    "            return \"Cannot divide by zero\"\n",
    "\n",
    "# Example usage of the Calculator class\n",
    "calculator_instance = Calculator()\n",
    "\n",
    "# Perform basic arithmetic operations\n",
    "result_add = calculator_instance.add(15, 13)\n",
    "result_subtract = calculator_instance.subtract(28, 14)\n",
    "result_multiply = calculator_instance.multiply(12, 60)\n",
    "result_divide = calculator_instance.divide(100, 25)\n",
    "\n",
    "# Display the results\n",
    "print(f\"Addition: {result_add}\")\n",
    "print(f\"Subtraction: {result_subtract}\")\n",
    "print(f\"Multiplication: {result_multiply}\")\n",
    "print(f\"Division: {result_divide}\")"
   ]
  },
  {
   "cell_type": "markdown",
   "id": "85dfb496",
   "metadata": {},
   "source": [
    "4. Python program to create a class that represents a shape. Include methods to calculate its area and perimeter. Implement subclasses for different shapes like circle, triangle, and square."
   ]
  },
  {
   "cell_type": "code",
   "execution_count": 14,
   "id": "a63cb76e",
   "metadata": {},
   "outputs": [
    {
     "name": "stdout",
     "output_type": "stream",
     "text": [
      "\n",
      "Shape: Circle\n",
      "Area: 201.06\n",
      "Perimeter: 50.27\n",
      "\n",
      "Shape: Triangle\n",
      "Area: 19.81\n",
      "Perimeter: 23.00\n",
      "\n",
      "Shape: Square\n",
      "Area: 25.00\n",
      "Perimeter: 20.00\n"
     ]
    }
   ],
   "source": [
    "import math\n",
    "\n",
    "class Shape:\n",
    "    def calculate_area(self):\n",
    "        pass\n",
    "\n",
    "    def calculate_perimeter(self):\n",
    "        pass\n",
    "\n",
    "class Circle(Shape):\n",
    "    def __init__(self, radius):\n",
    "        self.radius = radius\n",
    "\n",
    "    def calculate_area(self):\n",
    "        return math.pi * (self.radius ** 2)\n",
    "\n",
    "    def calculate_perimeter(self):\n",
    "        return 2 * math.pi * self.radius\n",
    "\n",
    "class Triangle(Shape):\n",
    "    def __init__(self, side1, side2, side3):\n",
    "        self.side1 = side1\n",
    "        self.side2 = side2\n",
    "        self.side3 = side3\n",
    "\n",
    "    def calculate_area(self):\n",
    "        s = (self.side1 + self.side2 + self.side3) / 2\n",
    "        area = math.sqrt(s * (s - self.side1) * (s - self.side2) * (s - self.side3))\n",
    "        return area\n",
    "\n",
    "    def calculate_perimeter(self):\n",
    "        return self.side1 + self.side2 + self.side3\n",
    "\n",
    "class Square(Shape):\n",
    "    def __init__(self, side):\n",
    "        self.side = side\n",
    "\n",
    "    def calculate_area(self):\n",
    "        return self.side ** 2\n",
    "\n",
    "    def calculate_perimeter(self):\n",
    "        return 4 * self.side\n",
    "\n",
    "# Example usage of the Shape and its subclasses\n",
    "circle_instance = Circle(radius=8)\n",
    "triangle_instance = Triangle(side1=5, side2=8, side3=10)\n",
    "square_instance = Square(side=5)\n",
    "\n",
    "# Calculate and display area and perimeter for each shape\n",
    "shapes = [circle_instance, triangle_instance, square_instance]\n",
    "\n",
    "for shape in shapes:\n",
    "    print(f\"\\nShape: {type(shape).__name__}\")\n",
    "    print(f\"Area: {shape.calculate_area():.2f}\")\n",
    "    print(f\"Perimeter: {shape.calculate_perimeter():.2f}\")"
   ]
  },
  {
   "cell_type": "markdown",
   "id": "b4ab4248",
   "metadata": {},
   "source": [
    "5. Python class named Student with two attributes student_name, marks. Modify the attribute values of the said class and print the original and modified values of the said attributes."
   ]
  },
  {
   "cell_type": "code",
   "execution_count": 15,
   "id": "f65957fb",
   "metadata": {},
   "outputs": [
    {
     "name": "stdout",
     "output_type": "stream",
     "text": [
      "Original Values:\n",
      "Student Name: Aruhi Shaw\n",
      "Marks: 79\n",
      "\n",
      "Modified Values:\n",
      "Student Name: Arushi Shaw\n",
      "Marks: 83\n"
     ]
    }
   ],
   "source": [
    "class Student:\n",
    "    def __init__(self, student_name, marks):\n",
    "        self.student_name = student_name\n",
    "        self.marks = marks\n",
    "\n",
    "    def display_info(self):\n",
    "        print(f\"Student Name: {self.student_name}\")\n",
    "        print(f\"Marks: {self.marks}\")\n",
    "\n",
    "# Create an instance of the Student class\n",
    "student_instance = Student(student_name=\"Aruhi Shaw\", marks=79)\n",
    "\n",
    "# Display the original values\n",
    "print(\"Original Values:\")\n",
    "student_instance.display_info()\n",
    "\n",
    "# Modify the attribute values\n",
    "student_instance.student_name = \"Arushi Shaw\"\n",
    "student_instance.marks = 83\n",
    "\n",
    "# Display the modified values\n",
    "print(\"\\nModified Values:\")\n",
    "student_instance.display_info()"
   ]
  },
  {
   "cell_type": "markdown",
   "id": "f36abb8e",
   "metadata": {},
   "source": [
    "# File Handling"
   ]
  },
  {
   "cell_type": "markdown",
   "id": "53b0ff36",
   "metadata": {},
   "source": [
    "1. Python program to read first n lines of a file."
   ]
  },
  {
   "cell_type": "code",
   "execution_count": 18,
   "id": "3e36eb08",
   "metadata": {},
   "outputs": [
    {
     "name": "stdout",
     "output_type": "stream",
     "text": [
      "1. Geography is vast subject.\n",
      "2. It includes different branches and sub branches.\n",
      "3. Some branches are Physical Geography, Human Geography etc.\n",
      "4. Some sub branches in Physical Geography are Geomorphology, Climatology, Oceanography, Hydrology and Biogeography.\n",
      "5. Some sub branches in Human Geography are Social Geography, Cultural Geography, Settlement Geography, Population Geography.\n"
     ]
    }
   ],
   "source": [
    "def read_first_n_lines(file_path, n):\n",
    "    try:\n",
    "        with open(file_path, 'r') as file:\n",
    "            lines = file.readlines()\n",
    "            for i in range(min(n, len(lines))):\n",
    "                print(lines[i].strip())\n",
    "    except FileNotFoundError:\n",
    "        print(f\"File '{file_path}' not found.\")\n",
    "    except Exception as e:\n",
    "        print(f\"An error occurred: {e}\")\n",
    "\n",
    "# Example usage\n",
    "file_path = 'ASSIGNMENT2.txt'  \n",
    "number_of_lines = 5\n",
    "\n",
    "read_first_n_lines(file_path, number_of_lines)"
   ]
  },
  {
   "cell_type": "markdown",
   "id": "f12471de",
   "metadata": {},
   "source": [
    "2. Python program to count the number of lines in a text file."
   ]
  },
  {
   "cell_type": "code",
   "execution_count": 20,
   "id": "93ed6d88",
   "metadata": {},
   "outputs": [
    {
     "name": "stdout",
     "output_type": "stream",
     "text": [
      "Number of lines in 'ASSIGNMENT2.txt': 5\n"
     ]
    }
   ],
   "source": [
    "def count_lines(file_path):\n",
    "    try:\n",
    "        with open(file_path, 'r') as file:\n",
    "            lines = file.readlines()\n",
    "            line_count = len(lines)\n",
    "            print(f\"Number of lines in '{file_path}': {line_count}\")\n",
    "    except FileNotFoundError:\n",
    "        print(f\"File '{file_path}' not found.\")\n",
    "    except Exception as e:\n",
    "        print(f\"An error occurred: {e}\")\n",
    "\n",
    "# Example usage\n",
    "file_path = 'ASSIGNMENT2.txt'\n",
    "\n",
    "count_lines(file_path)"
   ]
  },
  {
   "cell_type": "markdown",
   "id": "06ed24f1",
   "metadata": {},
   "source": [
    "3. Python program to get the file size of a plain file."
   ]
  },
  {
   "cell_type": "code",
   "execution_count": 21,
   "id": "e466b85a",
   "metadata": {},
   "outputs": [
    {
     "name": "stdout",
     "output_type": "stream",
     "text": [
      "File size of 'ASSIGNMENT2.txt': 386 bytes\n"
     ]
    }
   ],
   "source": [
    "import os\n",
    "\n",
    "def get_file_size(file_path):\n",
    "    try:\n",
    "        file_size = os.path.getsize(file_path)\n",
    "        print(f\"File size of '{file_path}': {file_size} bytes\")\n",
    "    except FileNotFoundError:\n",
    "        print(f\"File '{file_path}' not found.\")\n",
    "    except Exception as e:\n",
    "        print(f\"An error occurred: {e}\")\n",
    "\n",
    "# Example usage\n",
    "file_path = 'ASSIGNMENT2.txt'\n",
    "\n",
    "get_file_size(file_path)"
   ]
  },
  {
   "cell_type": "markdown",
   "id": "1f600588",
   "metadata": {},
   "source": [
    "4. Python program to write a list to a file."
   ]
  },
  {
   "cell_type": "code",
   "execution_count": 22,
   "id": "3b48ec68",
   "metadata": {},
   "outputs": [
    {
     "name": "stdout",
     "output_type": "stream",
     "text": [
      "List written to 'ASSIGNMENT2.txt' successfully.\n"
     ]
    }
   ],
   "source": [
    "def write_list_to_file(file_path, data_list):\n",
    "    try:\n",
    "        with open(file_path, 'w') as file:\n",
    "            for item in data_list:\n",
    "                file.write(str(item) + '\\n')\n",
    "        print(f\"List written to '{file_path}' successfully.\")\n",
    "    except Exception as e:\n",
    "        print(f\"An error occurred: {e}\")\n",
    "\n",
    "# Example usage\n",
    "file_path = 'ASSIGNMENT2.txt'\n",
    "my_list = [10, 12, 14, 16, 18, 20]\n",
    "\n",
    "write_list_to_file(file_path, my_list)"
   ]
  },
  {
   "cell_type": "code",
   "execution_count": 23,
   "id": "b7f79c30",
   "metadata": {},
   "outputs": [
    {
     "name": "stdout",
     "output_type": "stream",
     "text": [
      "10\n",
      "12\n",
      "14\n",
      "16\n",
      "18\n",
      "20\n",
      "\n"
     ]
    }
   ],
   "source": [
    "# open a file\n",
    "file1 = open(\"ASSIGNMENT2.txt\", \"r\")\n",
    "\n",
    "#read the file\n",
    "read_content = file1.read()\n",
    "print(read_content)"
   ]
  },
  {
   "cell_type": "markdown",
   "id": "6c3171a3",
   "metadata": {},
   "source": [
    "5. Python program that takes a text file as input and returns the number of words of a given text file."
   ]
  },
  {
   "cell_type": "code",
   "execution_count": 24,
   "id": "f32f064c",
   "metadata": {},
   "outputs": [
    {
     "name": "stdout",
     "output_type": "stream",
     "text": [
      "Number of words in 'GEOGRAPHY.txt': 52\n"
     ]
    }
   ],
   "source": [
    "def count_words(file_path):\n",
    "    try:\n",
    "        with open(file_path, 'r') as file:\n",
    "            text = file.read()\n",
    "            word_count = len(text.split())\n",
    "            print(f\"Number of words in '{file_path}': {word_count}\")\n",
    "    except FileNotFoundError:\n",
    "        print(f\"File '{file_path}' not found.\")\n",
    "    except Exception as e:\n",
    "        print(f\"An error occurred: {e}\")\n",
    "\n",
    "# Example usage\n",
    "file_path = 'GEOGRAPHY.txt'\n",
    "\n",
    "count_words(file_path)"
   ]
  },
  {
   "cell_type": "markdown",
   "id": "c4b85774",
   "metadata": {},
   "source": [
    "6. Python program to count the frequency of words in a file."
   ]
  },
  {
   "cell_type": "code",
   "execution_count": 26,
   "id": "0c1b4b69",
   "metadata": {},
   "outputs": [
    {
     "name": "stdout",
     "output_type": "stream",
     "text": [
      "Word frequency in 'GEOGRAPHY.txt':\n",
      "1: 1\n",
      "geography: 9\n",
      "is: 1\n",
      "vast: 1\n",
      "subject: 1\n",
      "2: 1\n",
      "it: 1\n",
      "includes: 1\n",
      "different: 1\n",
      "branches: 5\n",
      "and: 2\n",
      "sub: 3\n",
      "3: 1\n",
      "some: 3\n",
      "are: 3\n",
      "physical: 2\n",
      "human: 2\n",
      "etc: 1\n",
      "4: 1\n",
      "in: 2\n",
      "geomorphology: 1\n",
      "climatology: 1\n",
      "oceanography: 1\n",
      "hydrology: 1\n",
      "biogeography: 1\n",
      "5: 1\n",
      "social: 1\n",
      "cultural: 1\n",
      "settlement: 1\n",
      "population: 1\n"
     ]
    }
   ],
   "source": [
    "from collections import Counter\n",
    "import string\n",
    "\n",
    "def count_word_frequency(file_path):\n",
    "    try:\n",
    "        with open(file_path, 'r') as file:\n",
    "            text = file.read().lower()\n",
    "            # Remove punctuation\n",
    "            text = text.translate(str.maketrans(\"\", \"\", string.punctuation))\n",
    "            # Split the text into words\n",
    "            words = text.split()\n",
    "            # Count the frequency of each word\n",
    "            word_frequency = Counter(words)\n",
    "            # Display the word frequency\n",
    "            print(f\"Word frequency in '{file_path}':\")\n",
    "            for word, count in word_frequency.items():\n",
    "                print(f\"{word}: {count}\")\n",
    "    except FileNotFoundError:\n",
    "        print(f\"File '{file_path}' not found.\")\n",
    "    except Exception as e:\n",
    "        print(f\"An error occurred: {e}\")\n",
    "\n",
    "# Example usage\n",
    "file_path = 'GEOGRAPHY.txt'\n",
    "\n",
    "count_word_frequency(file_path)"
   ]
  },
  {
   "cell_type": "markdown",
   "id": "867311d8",
   "metadata": {},
   "source": [
    "# THANK YOU"
   ]
  }
 ],
 "metadata": {
  "kernelspec": {
   "display_name": "Python 3 (ipykernel)",
   "language": "python",
   "name": "python3"
  },
  "language_info": {
   "codemirror_mode": {
    "name": "ipython",
    "version": 3
   },
   "file_extension": ".py",
   "mimetype": "text/x-python",
   "name": "python",
   "nbconvert_exporter": "python",
   "pygments_lexer": "ipython3",
   "version": "3.11.5"
  }
 },
 "nbformat": 4,
 "nbformat_minor": 5
}

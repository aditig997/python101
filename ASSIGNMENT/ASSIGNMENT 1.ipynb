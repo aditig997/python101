{
 "cells": [
  {
   "cell_type": "markdown",
   "id": "6cdeddea",
   "metadata": {},
   "source": [
    "# Q 1: Program to Convert Decimal to Binary, Octal and Hexadecimal in Python."
   ]
  },
  {
   "cell_type": "code",
   "execution_count": 2,
   "id": "36902e18",
   "metadata": {},
   "outputs": [
    {
     "name": "stdout",
     "output_type": "stream",
     "text": [
      "Enter a decimal number: 19\n",
      "Binary representation: 0b10011\n",
      "Octal representation: 0o23\n",
      "Hexadecimal representation: 0x13\n"
     ]
    }
   ],
   "source": [
    "decimal_number = int(input(\"Enter a decimal number: \"))\n",
    "\n",
    "# Convert to binary\n",
    "binary = bin(decimal_number)\n",
    "print(f\"Binary representation: {binary}\")\n",
    "\n",
    "# Convert to octal\n",
    "octal = oct(decimal_number)\n",
    "print(f\"Octal representation: {octal}\")\n",
    "\n",
    "# Convert to hexadecimal\n",
    "hexadecimal = hex(decimal_number)\n",
    "print(f\"Hexadecimal representation: {hexadecimal}\")"
   ]
  },
  {
   "cell_type": "markdown",
   "id": "7252adf0",
   "metadata": {},
   "source": [
    "# Q 2: Program to Compute Simple Interest in Python."
   ]
  },
  {
   "cell_type": "code",
   "execution_count": 3,
   "id": "9df13d04",
   "metadata": {},
   "outputs": [
    {
     "name": "stdout",
     "output_type": "stream",
     "text": [
      "Enter the principal amount: 1000\n",
      "Enter the annual interest rate (in percentage): 5\n",
      "Enter the time period (in years): 1\n",
      "Principal Amount: $1000.0\n",
      "Interest Rate: 5.0%\n",
      "Time Period: 1.0 years\n",
      "Simple Interest: $50.0\n"
     ]
    }
   ],
   "source": [
    "# Calculate simple interest\n",
    "def simple_interest(principal, rate, time):\n",
    "    interest = (principal * rate * time) / 100\n",
    "    return interest\n",
    "\n",
    "# Input principal amount, rate of interest, and time period\n",
    "principal_amount = float(input(\"Enter the principal amount: \"))\n",
    "interest_rate = float(input(\"Enter the annual interest rate (in percentage): \"))\n",
    "time_period = float(input(\"Enter the time period (in years): \"))\n",
    "\n",
    "# Calculate simple interest using the function\n",
    "simple_interest = simple_interest(principal_amount, interest_rate, time_period)\n",
    "\n",
    "# Display the result\n",
    "print(f\"Principal Amount: ${principal_amount}\")\n",
    "print(f\"Interest Rate: {interest_rate}%\")\n",
    "print(f\"Time Period: {time_period} years\")\n",
    "print(f\"Simple Interest: ${simple_interest}\")"
   ]
  },
  {
   "cell_type": "markdown",
   "id": "fd8892ff",
   "metadata": {},
   "source": [
    "# Q 3: Python Program to Calculate the Average of Numbers in a Given List."
   ]
  },
  {
   "cell_type": "code",
   "execution_count": 5,
   "id": "581ae60f",
   "metadata": {},
   "outputs": [
    {
     "name": "stdout",
     "output_type": "stream",
     "text": [
      "Enter a list of numbers separated by space: 12 08 20 35 15 10\n",
      "List of Numbers: [12.0, 8.0, 20.0, 35.0, 15.0, 10.0]\n",
      "Average: 16.666666666666668\n"
     ]
    }
   ],
   "source": [
    "# Calculate the average of numbers in a list\n",
    "def calculate_average(numbers):\n",
    "    if not numbers:\n",
    "        return 0  # Return 0 if the list is empty\n",
    "    else:\n",
    "        return sum(numbers) / len(numbers)\n",
    "\n",
    "# Input a list of numbers\n",
    "number_list = [float(x) for x in input(\"Enter a list of numbers separated by space: \").split()]\n",
    "\n",
    "# Calculate average using the function\n",
    "average = calculate_average(number_list)\n",
    "\n",
    "# Display the result\n",
    "print(f\"List of Numbers: {number_list}\")\n",
    "print(f\"Average: {average}\")\n"
   ]
  },
  {
   "cell_type": "markdown",
   "id": "5f47b7e3",
   "metadata": {},
   "source": [
    "# Q 4: Python Program to Print Sum of Negative Numbers, Positive Even Numbers and Positive Odd numbers in a List."
   ]
  },
  {
   "cell_type": "code",
   "execution_count": 6,
   "id": "a6c6ad94",
   "metadata": {},
   "outputs": [
    {
     "name": "stdout",
     "output_type": "stream",
     "text": [
      "Enter a list of numbers separated by space: 02 03 05 -15 -15 -20 12 06 09 01 11 21\n",
      "List of Numbers: [2, 3, 5, -15, -15, -20, 12, 6, 9, 1, 11, 21]\n",
      "Sum of Negative Numbers: -50\n",
      "Sum of Positive Even Numbers: 20\n",
      "Sum of Positive Odd Numbers: 50\n"
     ]
    }
   ],
   "source": [
    "# Categorize and calculate the sum of numbers in a list\n",
    "def calculate_sums(numbers):\n",
    "    sum_negative = sum([num for num in numbers if num < 0])\n",
    "    sum_even_positive = sum([num for num in numbers if num > 0 and num % 2 == 0])\n",
    "    sum_odd_positive = sum([num for num in numbers if num > 0 and num % 2 != 0])\n",
    "    \n",
    "    return sum_negative, sum_even_positive, sum_odd_positive\n",
    "\n",
    "# Input a list of numbers\n",
    "number_list = [int(x) for x in input(\"Enter a list of numbers separated by space: \").split()]\n",
    "\n",
    "# Calculate sums using the function\n",
    "sum_negative, sum_even_positive, sum_odd_positive = calculate_sums(number_list)\n",
    "\n",
    "# Display the results\n",
    "print(f\"List of Numbers: {number_list}\")\n",
    "print(f\"Sum of Negative Numbers: {sum_negative}\")\n",
    "print(f\"Sum of Positive Even Numbers: {sum_even_positive}\")\n",
    "print(f\"Sum of Positive Odd Numbers: {sum_odd_positive}\")\n"
   ]
  },
  {
   "cell_type": "markdown",
   "id": "31210c14",
   "metadata": {},
   "source": [
    "# Q 5: Python Program to Find Median of List."
   ]
  },
  {
   "cell_type": "code",
   "execution_count": 7,
   "id": "066ce386",
   "metadata": {},
   "outputs": [
    {
     "name": "stdout",
     "output_type": "stream",
     "text": [
      "Enter a list of numbers separated by space: 12 16 11 03 16 21 19 08 16 10\n",
      "List of Numbers: [12.0, 16.0, 11.0, 3.0, 16.0, 21.0, 19.0, 8.0, 16.0, 10.0]\n",
      "Median: 14.0\n"
     ]
    }
   ],
   "source": [
    "# Calculate the median of a list\n",
    "def calculate_median(numbers):\n",
    "    sorted_numbers = sorted(numbers)\n",
    "    length = len(sorted_numbers)\n",
    "\n",
    "    # If the length of the list is odd, return the middle element\n",
    "    if length % 2 != 0:\n",
    "        return sorted_numbers[length // 2]\n",
    "    # If the length of the list is even, return the average of the two middle elements\n",
    "    else:\n",
    "        middle1 = sorted_numbers[length // 2 - 1]\n",
    "        middle2 = sorted_numbers[length // 2]\n",
    "        return (middle1 + middle2) / 2\n",
    "\n",
    "# Input a list of numbers\n",
    "number_list = [float(x) for x in input(\"Enter a list of numbers separated by space: \").split()]\n",
    "\n",
    "# Calculate median using the function\n",
    "median = calculate_median(number_list)\n",
    "\n",
    "# Display the result\n",
    "print(f\"List of Numbers: {number_list}\")\n",
    "print(f\"Median: {median}\")\n"
   ]
  },
  {
   "cell_type": "markdown",
   "id": "a4883b62",
   "metadata": {},
   "source": [
    "# Q 6: Python Program to Print Largest Even and Largest Odd Number in a List."
   ]
  },
  {
   "cell_type": "code",
   "execution_count": 8,
   "id": "90eb3ef1",
   "metadata": {},
   "outputs": [
    {
     "name": "stdout",
     "output_type": "stream",
     "text": [
      "Enter a list of numbers separated by space: 02 12 20 50 61 85 86 10 03\n",
      "List of Numbers: [2, 12, 20, 50, 61, 85, 86, 10, 3]\n",
      "Largest Even Number: 86\n",
      "Largest Odd Number: 85\n"
     ]
    }
   ],
   "source": [
    "# Find the largest even and odd numbers in a list\n",
    "def find_largest_even_odd(numbers):\n",
    "    # Filter even and odd numbers\n",
    "    even_numbers = [num for num in numbers if num % 2 == 0]\n",
    "    odd_numbers = [num for num in numbers if num % 2 != 0]\n",
    "\n",
    "    # Find the largest even and odd numbers\n",
    "    largest_even = max(even_numbers, default=None)\n",
    "    largest_odd = max(odd_numbers, default=None)\n",
    "\n",
    "    return largest_even, largest_odd\n",
    "\n",
    "# Input a list of numbers\n",
    "number_list = [int(x) for x in input(\"Enter a list of numbers separated by space: \").split()]\n",
    "\n",
    "# Find largest even and odd numbers using the function\n",
    "largest_even, largest_odd = find_largest_even_odd(number_list)\n",
    "\n",
    "# Display the results\n",
    "print(f\"List of Numbers: {number_list}\")\n",
    "print(f\"Largest Even Number: {largest_even if largest_even is not None else 'None'}\")\n",
    "print(f\"Largest Odd Number: {largest_odd if largest_odd is not None else 'None'}\")\n"
   ]
  },
  {
   "cell_type": "markdown",
   "id": "2b7e78fa",
   "metadata": {},
   "source": [
    "# Q 7.A: Python program to Convert Kilometres to Miles"
   ]
  },
  {
   "cell_type": "code",
   "execution_count": 9,
   "id": "bbd4225c",
   "metadata": {},
   "outputs": [
    {
     "name": "stdout",
     "output_type": "stream",
     "text": [
      "Enter value in Kilometers: 15\n",
      "15.00 kilometers is equal to 9.32 miles\n"
     ]
    }
   ],
   "source": [
    "# Taking Kilometers input from the user\n",
    "kilometers = float(input(\"Enter value in Kilometers: \"))\n",
    "\n",
    "# Conversion Factor\n",
    "conv_fac = 0.621371\n",
    "\n",
    "# Calculation of Miles\n",
    "miles = kilometers * conv_fac\n",
    "print ('%0.2f kilometers is equal to %0.2f miles' %(kilometers,miles))"
   ]
  },
  {
   "cell_type": "markdown",
   "id": "6b69ca4f",
   "metadata": {},
   "source": [
    "# Q 7.B: Python program to Convert Miles To Kilometres"
   ]
  },
  {
   "cell_type": "code",
   "execution_count": 10,
   "id": "bb1f440b",
   "metadata": {},
   "outputs": [
    {
     "name": "stdout",
     "output_type": "stream",
     "text": [
      "Enter value in miles: 10\n",
      "10.00 miles is euqal to 16.09 kilometers\n"
     ]
    }
   ],
   "source": [
    "# Taking miles input from the user\n",
    "\n",
    "miles = float(input(\"Enter value in miles: \"))\n",
    "\n",
    "# Conversion Factor\n",
    "conv_fac = 0.621371\n",
    "\n",
    "# Calculation of kilometers\n",
    "kilometers = miles / conv_fac\n",
    "print ('%0.2f miles is euqal to %0.2f kilometers' %(miles,kilometers))"
   ]
  },
  {
   "cell_type": "markdown",
   "id": "88e0f5bd",
   "metadata": {},
   "source": [
    "# Q 8: Python program to convert seconds into day, hours, minutes and seconds."
   ]
  },
  {
   "cell_type": "code",
   "execution_count": 13,
   "id": "77d34c4d",
   "metadata": {},
   "outputs": [
    {
     "name": "stdout",
     "output_type": "stream",
     "text": [
      "Enter the number of seconds: 500600\n",
      "500600 seconds is equal to:\n",
      "Days: 5\n",
      "Hours: 19\n",
      "Minutes: 3\n",
      "Seconds: 20\n"
     ]
    }
   ],
   "source": [
    "# Convert seconds into days, hours, minutes, and seconds\n",
    "def convert_seconds(seconds):\n",
    "    days = seconds // (24 * 3600)\n",
    "    hours = (seconds % (24 * 3600)) // 3600\n",
    "    minutes = (seconds % 3600) // 60\n",
    "    remaining_seconds = seconds % 60\n",
    "\n",
    "    return days, hours, minutes, remaining_seconds\n",
    "\n",
    "# Input the number of seconds\n",
    "total_seconds = int(input(\"Enter the number of seconds: \"))\n",
    "\n",
    "# Convert seconds using the function\n",
    "days, hours, minutes, remaining_seconds = convert_seconds(total_seconds)\n",
    "\n",
    "# Display the result\n",
    "print(f\"{total_seconds} seconds is equal to:\")\n",
    "print(f\"Days: {days}\")\n",
    "print(f\"Hours: {hours}\")\n",
    "print(f\"Minutes: {minutes}\")\n",
    "print(f\"Seconds: {remaining_seconds}\")\n"
   ]
  },
  {
   "cell_type": "markdown",
   "id": "f72ed727",
   "metadata": {},
   "source": [
    "# Q 9: Python Program to Read Height in Centimetres and then Convert the Height to Feet and Inches."
   ]
  },
  {
   "cell_type": "code",
   "execution_count": 14,
   "id": "a6bc3a48",
   "metadata": {},
   "outputs": [
    {
     "name": "stdout",
     "output_type": "stream",
     "text": [
      "Enter height in centimeters: 362\n",
      "362.0 centimeters is equal to 11 feet and 11 inches.\n"
     ]
    }
   ],
   "source": [
    "# Convert height from centimeters to feet and inches\n",
    "def convert_height(cm_height):\n",
    "    # 1 cm is equal to 0.0328084 feet\n",
    "    feet = cm_height * 0.0328084\n",
    "\n",
    "    # Calculate inches from the remaining decimal part of feet\n",
    "    inches = (feet - int(feet)) * 12\n",
    "\n",
    "    return int(feet), round(inches)\n",
    "\n",
    "# Input height in centimeters\n",
    "cm_height = float(input(\"Enter height in centimeters: \"))\n",
    "\n",
    "# Convert height using the function\n",
    "feet, inches = convert_height(cm_height)\n",
    "\n",
    "# Display the result\n",
    "print(f\"{cm_height} centimeters is equal to {feet} feet and {inches} inches.\")\n"
   ]
  },
  {
   "cell_type": "markdown",
   "id": "9265c3cb",
   "metadata": {},
   "source": [
    "# Q 10: Python program to calculate GST"
   ]
  },
  {
   "cell_type": "code",
   "execution_count": 15,
   "id": "d6eed1fe",
   "metadata": {},
   "outputs": [
    {
     "name": "stdout",
     "output_type": "stream",
     "text": [
      "Enter the amount: 1500\n",
      "Enter the GST rate in percentage: 12\n",
      "Original Amount: $1500.0\n",
      "GST Amount (12.0%): $180.0\n",
      "Total Amount (including GST): $1680.0\n"
     ]
    }
   ],
   "source": [
    "# Calculate GST\n",
    "def calculate_gst(amount, gst_rate):\n",
    "    gst_amount = (amount * gst_rate) / 100\n",
    "    total_amount = amount + gst_amount\n",
    "    return gst_amount, total_amount\n",
    "\n",
    "# Input the amount and GST rate from the user\n",
    "amount = float(input(\"Enter the amount: \"))\n",
    "gst_rate = float(input(\"Enter the GST rate in percentage: \"))\n",
    "\n",
    "# Calculate GST using the function\n",
    "gst_amount, total_amount = calculate_gst(amount, gst_rate)\n",
    "\n",
    "# Display the result\n",
    "print(f\"Original Amount: ${amount}\")\n",
    "print(f\"GST Amount ({gst_rate}%): ${gst_amount}\")\n",
    "print(f\"Total Amount (including GST): ${total_amount}\")\n"
   ]
  },
  {
   "cell_type": "markdown",
   "id": "d448b4d4",
   "metadata": {},
   "source": [
    "# Q 11: Python program to calculate EMI"
   ]
  },
  {
   "cell_type": "code",
   "execution_count": 1,
   "id": "52315392",
   "metadata": {},
   "outputs": [
    {
     "name": "stdout",
     "output_type": "stream",
     "text": [
      "Enter the loan amount: 5000\n",
      "Enter the annual interest rate (in percentage): 2\n",
      "Enter the loan tenure in years: 3\n",
      "Loan Amount: $5000.0\n",
      "Annual Interest Rate: 2.0%\n",
      "Loan Tenure: 3 years\n",
      "EMI Amount: $143.21 per month\n"
     ]
    }
   ],
   "source": [
    "import math\n",
    "\n",
    "# Calculate EMI\n",
    "def calculate_emi(principal, annual_interest_rate, tenure):\n",
    "    # Convert annual interest rate to monthly and calculate monthly interest rate\n",
    "    monthly_interest_rate = (annual_interest_rate / 100) / 12\n",
    "\n",
    "    # Calculate the number of monthly payments\n",
    "    total_payments = tenure * 12\n",
    "\n",
    "    # Calculate EMI using the formula\n",
    "    emi = (principal * monthly_interest_rate * math.pow(1 + monthly_interest_rate, total_payments)) / (math.pow(1 + monthly_interest_rate, total_payments) - 1)\n",
    "\n",
    "    return emi\n",
    "\n",
    "# Input loan details from the user\n",
    "principal_amount = float(input(\"Enter the loan amount: \"))\n",
    "annual_interest_rate = float(input(\"Enter the annual interest rate (in percentage): \"))\n",
    "loan_tenure_years = int(input(\"Enter the loan tenure in years: \"))\n",
    "\n",
    "# Calculate EMI using the function\n",
    "emi_amount = calculate_emi(principal_amount, annual_interest_rate, loan_tenure_years)\n",
    "\n",
    "# Display the result\n",
    "print(f\"Loan Amount: ${principal_amount}\")\n",
    "print(f\"Annual Interest Rate: {annual_interest_rate}%\")\n",
    "print(f\"Loan Tenure: {loan_tenure_years} years\")\n",
    "print(f\"EMI Amount: ${emi_amount:.2f} per month\")\n"
   ]
  },
  {
   "cell_type": "markdown",
   "id": "49598fc7",
   "metadata": {},
   "source": [
    "# Q 12: Python program to calculate BMI"
   ]
  },
  {
   "cell_type": "code",
   "execution_count": 2,
   "id": "7e251e43",
   "metadata": {},
   "outputs": [
    {
     "name": "stdout",
     "output_type": "stream",
     "text": [
      "Enter your weight in kilograms: 55\n",
      "Enter your height in meters: 1.7\n",
      "Weight: 55.0 kg\n",
      "Height: 1.7 m\n",
      "BMI: 19.03\n",
      "Category: Normal Weight\n"
     ]
    }
   ],
   "source": [
    "# Calculate BMI\n",
    "def calculate_bmi(weight, height):\n",
    "    bmi = weight / (height ** 2)\n",
    "    return bmi\n",
    "\n",
    "# Input weight and height from the user\n",
    "weight_kg = float(input(\"Enter your weight in kilograms: \"))\n",
    "height_m = float(input(\"Enter your height in meters: \"))\n",
    "\n",
    "# Calculate BMI using the function\n",
    "bmi_result = calculate_bmi(weight_kg, height_m)\n",
    "\n",
    "# Display the result\n",
    "print(f\"Weight: {weight_kg} kg\")\n",
    "print(f\"Height: {height_m} m\")\n",
    "print(f\"BMI: {bmi_result:.2f}\")\n",
    "\n",
    "# Interpretation of BMI categories\n",
    "if bmi_result < 18.5:\n",
    "    print(\"Category: Underweight\")\n",
    "elif 18.5 <= bmi_result < 24.9:\n",
    "    print(\"Category: Normal Weight\")\n",
    "elif 25 <= bmi_result < 29.9:\n",
    "    print(\"Category: Overweight\")\n",
    "else:\n",
    "    print(\"Category: Obesity\")\n"
   ]
  },
  {
   "cell_type": "markdown",
   "id": "df1dea40",
   "metadata": {},
   "source": [
    "# Q 13: Python program to compute Euclidean Distance."
   ]
  },
  {
   "cell_type": "code",
   "execution_count": 3,
   "id": "b7358c90",
   "metadata": {},
   "outputs": [
    {
     "name": "stdout",
     "output_type": "stream",
     "text": [
      "Enter x-coordinate of point 1: 1\n",
      "Enter y-coordinate of point 1: 3\n",
      "Enter x-coordinate of point 2: 2\n",
      "Enter y-coordinate of point 2: 4\n",
      "Point 1: (1.0, 3.0)\n",
      "Point 2: (2.0, 4.0)\n",
      "Euclidean Distance: 1.41\n"
     ]
    }
   ],
   "source": [
    "import math\n",
    "\n",
    "# Calculate Euclidean Distance\n",
    "def calculate_euclidean_distance(x1, y1, x2, y2):\n",
    "    distance = math.sqrt((x2 - x1)**2 + (y2 - y1)**2)\n",
    "    return distance\n",
    "\n",
    "# Input coordinates from the user\n",
    "x1 = float(input(\"Enter x-coordinate of point 1: \"))\n",
    "y1 = float(input(\"Enter y-coordinate of point 1: \"))\n",
    "x2 = float(input(\"Enter x-coordinate of point 2: \"))\n",
    "y2 = float(input(\"Enter y-coordinate of point 2: \"))\n",
    "\n",
    "# Calculate Euclidean Distance using the function\n",
    "distance_result = calculate_euclidean_distance(x1, y1, x2, y2)\n",
    "\n",
    "# Display the result\n",
    "print(f\"Point 1: ({x1}, {y1})\")\n",
    "print(f\"Point 2: ({x2}, {y2})\")\n",
    "print(f\"Euclidean Distance: {distance_result:.2f}\")\n"
   ]
  },
  {
   "cell_type": "code",
   "execution_count": null,
   "id": "9c3468f5",
   "metadata": {},
   "outputs": [],
   "source": []
  }
 ],
 "metadata": {
  "kernelspec": {
   "display_name": "Python 3 (ipykernel)",
   "language": "python",
   "name": "python3"
  },
  "language_info": {
   "codemirror_mode": {
    "name": "ipython",
    "version": 3
   },
   "file_extension": ".py",
   "mimetype": "text/x-python",
   "name": "python",
   "nbconvert_exporter": "python",
   "pygments_lexer": "ipython3",
   "version": "3.11.5"
  }
 },
 "nbformat": 4,
 "nbformat_minor": 5
}

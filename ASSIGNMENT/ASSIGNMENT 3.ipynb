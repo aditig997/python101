{
 "cells": [
  {
   "cell_type": "markdown",
   "id": "c021c5db",
   "metadata": {},
   "source": [
    "1. Create a 5X2 integer array and Prints its attributes"
   ]
  },
  {
   "cell_type": "code",
   "execution_count": 1,
   "id": "2152330f",
   "metadata": {},
   "outputs": [
    {
     "name": "stdout",
     "output_type": "stream",
     "text": [
      "Array:\n",
      "[[ 1  2]\n",
      " [ 3  4]\n",
      " [ 5  6]\n",
      " [ 7  8]\n",
      " [ 9 10]]\n",
      "Shape: (5, 2)\n",
      "Number of dimensions: 2\n",
      "Data type: int32\n",
      "Total number of elements: 10\n"
     ]
    }
   ],
   "source": [
    "import numpy as np\n",
    "\n",
    "# Create a 5x2 integer array\n",
    "my_array = np.array([[1, 2],\n",
    "                    [3, 4],\n",
    "                    [5, 6],\n",
    "                    [7, 8],\n",
    "                    [9, 10]])\n",
    "\n",
    "print(\"Array:\")\n",
    "print(my_array)\n",
    "\n",
    "# Print array shape\n",
    "print(\"Shape:\", my_array.shape)\n",
    "\n",
    "# Print number of dimensions\n",
    "print(\"Number of dimensions:\", my_array.ndim)\n",
    "\n",
    "# Print data type of array elements\n",
    "print(\"Data type:\", my_array.dtype)\n",
    "\n",
    "# Print total number of elements in the array\n",
    "print(\"Total number of elements:\", my_array.size)\n",
    "\n"
   ]
  },
  {
   "cell_type": "markdown",
   "id": "e333dcdd",
   "metadata": {},
   "source": [
    "2. Create an array by adding the following two NumPy arrays. Next, modify the result array by calculating the square of each element. "
   ]
  },
  {
   "cell_type": "code",
   "execution_count": 2,
   "id": "ba82e29c",
   "metadata": {},
   "outputs": [
    {
     "name": "stdout",
     "output_type": "stream",
     "text": [
      "Array One:\n",
      "[[ 5  6  9]\n",
      " [21 18 27]]\n",
      "\n",
      "Array Two:\n",
      "[[15 33 24]\n",
      " [ 4  7  1]]\n",
      "\n",
      "Result Array after Addition:\n",
      "[[20 39 33]\n",
      " [25 25 28]]\n",
      "\n",
      "Result Array after Squaring:\n",
      "[[ 400 1521 1089]\n",
      " [ 625  625  784]]\n"
     ]
    }
   ],
   "source": [
    "import numpy as np\n",
    "\n",
    "# Two NumPy arrays\n",
    "arrayOne = np.array([[5, 6, 9], [21, 18, 27]])\n",
    "arrayTwo = np.array([[15, 33, 24], [4, 7, 1]])\n",
    "\n",
    "# Add the two arrays\n",
    "result_array = arrayOne + arrayTwo\n",
    "\n",
    "# Print the original arrays\n",
    "print(\"Array One:\")\n",
    "print(arrayOne)\n",
    "\n",
    "print(\"\\nArray Two:\")\n",
    "print(arrayTwo)\n",
    "\n",
    "# Print the result array after addition\n",
    "print(\"\\nResult Array after Addition:\")\n",
    "print(result_array)\n",
    "\n",
    "# Calculate the square of each element in the result array\n",
    "result_array_squared = np.square(result_array)\n",
    "\n",
    "# Print the result array after squaring each element\n",
    "print(\"\\nResult Array after Squaring:\")\n",
    "print(result_array_squared)"
   ]
  },
  {
   "cell_type": "markdown",
   "id": "34b7b197",
   "metadata": {},
   "source": [
    "3.  Find the length of each string element in the Numpy array"
   ]
  },
  {
   "cell_type": "code",
   "execution_count": 3,
   "id": "c52befc2",
   "metadata": {},
   "outputs": [
    {
     "name": "stdout",
     "output_type": "stream",
     "text": [
      "Original Array:\n",
      "[['river' 'book' 'geomorphology']\n",
      " ['python' 'program' 'language']]\n",
      "\n",
      "Length of each string element:\n",
      "[[ 5  4 13]\n",
      " [ 6  7  8]]\n"
     ]
    }
   ],
   "source": [
    "import numpy as np\n",
    "\n",
    "# NumPy array with string elements\n",
    "string_array = np.array([['river', 'book', 'geomorphology'],\n",
    "                         ['python', 'program', 'language']])\n",
    "\n",
    "# Define a function to calculate the length of a string\n",
    "def string_length(s):\n",
    "    return len(s)\n",
    "\n",
    "# Vectorize the function to apply it element-wise to the array\n",
    "vectorized_string_length = np.vectorize(string_length)\n",
    "\n",
    "# Apply the vectorized function to the array\n",
    "length_of_strings = vectorized_string_length(string_array)\n",
    "\n",
    "# Print the original array\n",
    "print(\"Original Array:\")\n",
    "print(string_array)\n",
    "\n",
    "# Print the length of each string element in the array\n",
    "print(\"\\nLength of each string element:\")\n",
    "print(length_of_strings)"
   ]
  },
  {
   "cell_type": "markdown",
   "id": "a52836bc",
   "metadata": {},
   "source": [
    "4. Find Mean ,median and mode of a List of Numpy Array "
   ]
  },
  {
   "cell_type": "code",
   "execution_count": 13,
   "id": "865069d4",
   "metadata": {
    "scrolled": true
   },
   "outputs": [
    {
     "name": "stdout",
     "output_type": "stream",
     "text": [
      "Mean Values:\n",
      "[[13.  12.  18. ]\n",
      " [ 9.5 20.  12.5]]\n",
      "\n",
      "Median Values:\n",
      "[[13.  12.  18. ]\n",
      " [ 9.5 20.  12.5]]\n",
      "\n",
      "Mode Values:\n",
      "[5 6 9]\n"
     ]
    }
   ],
   "source": [
    "import numpy as np\n",
    "from scipy import stats\n",
    "\n",
    "arrayOne = np.array([[5, 6, 9], [21, 18, 27]])\n",
    "arrayTwo = np.array([[15, 33, 24], [4, 7, 1]])\n",
    "\n",
    "list_of_arrays = [arrayOne, arrayTwo]\n",
    "\n",
    "mean_values = np.mean(list_of_arrays, axis=1)\n",
    "median_values = np.median(list_of_arrays, axis=1)\n",
    "mode_values = stats.mode(list_of_arrays, axis=1)\n",
    "\n",
    "print(\"Mean Values:\")\n",
    "print(mean_values)\n",
    "print(\"\\nMedian Values:\")\n",
    "print(median_values)\n",
    "print(\"\\nMode Values:\")\n",
    "print(mode_values.mode[0])"
   ]
  },
  {
   "cell_type": "markdown",
   "id": "fd5e6682",
   "metadata": {},
   "source": [
    "5. Calculate the Euclidean distance using NumPy"
   ]
  },
  {
   "cell_type": "code",
   "execution_count": 18,
   "id": "65c08256",
   "metadata": {},
   "outputs": [
    {
     "name": "stdout",
     "output_type": "stream",
     "text": [
      "Euclidean Distance of arryOne is :\n",
      "26.90724809414742\n",
      "Euclidean Distance of two is :\n",
      "36.41428291206625\n"
     ]
    }
   ],
   "source": [
    "import numpy as np\n",
    "\n",
    "# Define two points as NumPy arrays\n",
    "arrayOne = np.array([[5, 6, 9], [21, 18, 27]])\n",
    "arrayTwo = np.array([[15, 33, 24], [4, 7, 1]])\n",
    "\n",
    "# Calculate Euclidean distance of arrayOne\n",
    "euclidean_distance = np.linalg.norm(arrayOne[0] - arrayOne[1])\n",
    "\n",
    "# Print the result\n",
    "print(\"Euclidean Distance of arryOne is :\")\n",
    "print(euclidean_distance)\n",
    "\n",
    "# Calculate Euclidean distance of arrayTwo\n",
    "euclidean_distance = np.linalg.norm(arrayTwo[0] - arrayTwo[1])\n",
    "\n",
    "print(\"Euclidean Distance of two is :\")\n",
    "print(euclidean_distance)"
   ]
  },
  {
   "cell_type": "markdown",
   "id": "d1e113b2",
   "metadata": {},
   "source": [
    "6. COVID-19 Data Visualization using matplotlib in Python."
   ]
  },
  {
   "cell_type": "code",
   "execution_count": 23,
   "id": "20587be6",
   "metadata": {},
   "outputs": [
    {
     "data": {
      "image/png": "[encoded data removed]",
      "text/plain": [
       "<Figure size 1200x600 with 1 Axes>"
      ]
     },
     "metadata": {},
     "output_type": "display_data"
    }
   ],
   "source": [
    "import pandas as pd\n",
    "import matplotlib.pyplot as plt\n",
    "\n",
    "case_time_series = pd.read_csv('case_time_series (2).csv')\n",
    "\n",
    "date_array = case_time_series['Date'].values\n",
    "total_confirmed_array = case_time_series['Total Confirmed'].values\n",
    "\n",
    "# Plotting cases over time\n",
    "plt.figure(figsize=(12, 6))\n",
    "plt.plot(date_array, total_confirmed_array)\n",
    "plt.title('COVID-19 Cases Over Time')\n",
    "plt.xlabel('Date')\n",
    "plt.ylabel('Total Confirmed Cases')\n",
    "plt.show()"
   ]
  },
  {
   "cell_type": "markdown",
   "id": "147ab3c1",
   "metadata": {},
   "source": [
    "7. From the given Automobile_ dataset print the first and last five rows."
   ]
  },
  {
   "cell_type": "code",
   "execution_count": 24,
   "id": "88f50981",
   "metadata": {},
   "outputs": [
    {
     "name": "stdout",
     "output_type": "stream",
     "text": [
      "First five rows:\n",
      "   index      company   body-style  wheel-base  length engine-type  \\\n",
      "0      0  alfa-romero  convertible        88.6   168.8        dohc   \n",
      "1      1  alfa-romero  convertible        88.6   168.8        dohc   \n",
      "2      2  alfa-romero    hatchback        94.5   171.2        ohcv   \n",
      "3      3         audi        sedan        99.8   176.6         ohc   \n",
      "4      4         audi        sedan        99.4   176.6         ohc   \n",
      "\n",
      "  num-of-cylinders  horsepower  average-mileage    price  \n",
      "0             four         111               21  13495.0  \n",
      "1             four         111               21  16500.0  \n",
      "2              six         154               19  16500.0  \n",
      "3             four         102               24  13950.0  \n",
      "4             five         115               18  17450.0  \n",
      "\n",
      "Last five rows:\n",
      "    index     company body-style  wheel-base  length engine-type  \\\n",
      "56     81  volkswagen      sedan        97.3   171.7         ohc   \n",
      "57     82  volkswagen      sedan        97.3   171.7         ohc   \n",
      "58     86  volkswagen      sedan        97.3   171.7         ohc   \n",
      "59     87       volvo      sedan       104.3   188.8         ohc   \n",
      "60     88       volvo      wagon       104.3   188.8         ohc   \n",
      "\n",
      "   num-of-cylinders  horsepower  average-mileage    price  \n",
      "56             four          85               27   7975.0  \n",
      "57             four          52               37   7995.0  \n",
      "58             four         100               26   9995.0  \n",
      "59             four         114               23  12940.0  \n",
      "60             four         114               23  13415.0  \n"
     ]
    }
   ],
   "source": [
    "import pandas as pd\n",
    "\n",
    "automobile_data = pd.read_csv('Automobile_data.csv')\n",
    "\n",
    "# Print first five rows\n",
    "print(\"First five rows:\")\n",
    "print(automobile_data.head())\n",
    "\n",
    "# Print last five rows\n",
    "print(\"\\nLast five rows:\")\n",
    "print(automobile_data.tail())"
   ]
  },
  {
   "cell_type": "markdown",
   "id": "d82d175b",
   "metadata": {},
   "source": [
    "8. Find the most expensive car company name."
   ]
  },
  {
   "cell_type": "code",
   "execution_count": 25,
   "id": "bc9383b2",
   "metadata": {},
   "outputs": [
    {
     "name": "stdout",
     "output_type": "stream",
     "text": [
      "Most Expensive Car Company: mercedes-benz\n"
     ]
    }
   ],
   "source": [
    "import pandas as pd\n",
    "\n",
    "automobile_data = pd.read_csv('Automobile_data.csv')\n",
    "\n",
    "# Find the most expensive car company\n",
    "most_expensive_company = automobile_data.loc[automobile_data['price'].idxmax(), 'company']\n",
    "print(\"Most Expensive Car Company:\", most_expensive_company)"
   ]
  },
  {
   "cell_type": "markdown",
   "id": "3da38262",
   "metadata": {},
   "source": [
    "9. Count total cars per company."
   ]
  },
  {
   "cell_type": "code",
   "execution_count": 27,
   "id": "55eea5e7",
   "metadata": {},
   "outputs": [
    {
     "name": "stdout",
     "output_type": "stream",
     "text": [
      "Total Cars Per Company:\n",
      "company\n",
      "toyota           7\n",
      "bmw              6\n",
      "mazda            5\n",
      "nissan           5\n",
      "audi             4\n",
      "mercedes-benz    4\n",
      "mitsubishi       4\n",
      "volkswagen       4\n",
      "alfa-romero      3\n",
      "chevrolet        3\n",
      "honda            3\n",
      "isuzu            3\n",
      "jaguar           3\n",
      "porsche          3\n",
      "dodge            2\n",
      "volvo            2\n",
      "Name: count, dtype: int64\n"
     ]
    }
   ],
   "source": [
    "import pandas as pd\n",
    "\n",
    "automobile_data = pd.read_csv('Automobile_data.csv')\n",
    "\n",
    "# Count total cars per company\n",
    "total_cars_per_company = automobile_data['company'].value_counts()\n",
    "print(\"Total Cars Per Company:\")\n",
    "print(total_cars_per_company)"
   ]
  },
  {
   "cell_type": "markdown",
   "id": "882a152e",
   "metadata": {},
   "source": [
    "10. Sort all cars by Price column."
   ]
  },
  {
   "cell_type": "code",
   "execution_count": 28,
   "id": "164fc282",
   "metadata": {},
   "outputs": [
    {
     "name": "stdout",
     "output_type": "stream",
     "text": [
      "Cars Sorted by Price:\n",
      "    index        company   body-style  wheel-base  length engine-type  \\\n",
      "35     47  mercedes-benz      hardtop       112.0   199.2        ohcv   \n",
      "11     14            bmw        sedan       103.5   193.8         ohc   \n",
      "34     46  mercedes-benz        sedan       120.9   208.1        ohcv   \n",
      "46     62        porsche  convertible        89.5   168.9        ohcf   \n",
      "12     15            bmw        sedan       110.0   197.0         ohc   \n",
      "..    ...            ...          ...         ...     ...         ...   \n",
      "27     36          mazda    hatchback        93.1   159.1         ohc   \n",
      "13     16      chevrolet    hatchback        88.4   141.1           l   \n",
      "22     31          isuzu        sedan        94.5   155.9         ohc   \n",
      "23     32          isuzu        sedan        94.5   155.9         ohc   \n",
      "47     63        porsche    hatchback        98.4   175.7       dohcv   \n",
      "\n",
      "   num-of-cylinders  horsepower  average-mileage    price  \n",
      "35            eight         184               14  45400.0  \n",
      "11              six         182               16  41315.0  \n",
      "34            eight         184               14  40960.0  \n",
      "46              six         207               17  37028.0  \n",
      "12              six         182               15  36880.0  \n",
      "..              ...         ...              ...      ...  \n",
      "27             four          68               30   5195.0  \n",
      "13            three          48               47   5151.0  \n",
      "22             four          70               38      NaN  \n",
      "23             four          70               38      NaN  \n",
      "47            eight         288               17      NaN  \n",
      "\n",
      "[61 rows x 10 columns]\n"
     ]
    }
   ],
   "source": [
    "import pandas as pd\n",
    "\n",
    "automobile_data = pd.read_csv('Automobile_data.csv')\n",
    "\n",
    "# Sort all cars by Price column\n",
    "sorted_cars = automobile_data.sort_values(by='price', ascending=False)\n",
    "print(\"Cars Sorted by Price:\")\n",
    "print(sorted_cars)"
   ]
  },
  {
   "cell_type": "code",
   "execution_count": null,
   "id": "3ccd56ea",
   "metadata": {},
   "outputs": [],
   "source": []
  }
 ],
 "metadata": {
  "kernelspec": {
   "display_name": "Python 3 (ipykernel)",
   "language": "python",
   "name": "python3"
  },
  "language_info": {
   "codemirror_mode": {
    "name": "ipython",
    "version": 3
   },
   "file_extension": ".py",
   "mimetype": "text/x-python",
   "name": "python",
   "nbconvert_exporter": "python",
   "pygments_lexer": "ipython3",
   "version": "3.11.5"
  }
 },
 "nbformat": 4,
 "nbformat_minor": 5
}
